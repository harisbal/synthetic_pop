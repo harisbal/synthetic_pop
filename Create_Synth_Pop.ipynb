{
 "cells": [
  {
   "cell_type": "code",
   "execution_count": 1,
   "metadata": {
    "collapsed": true
   },
   "outputs": [],
   "source": [
    "import pandas as pd\n",
    "import numpy as np\n",
    "import itertools\n",
    "from xml.etree.ElementTree import ElementTree, Element, SubElement, tostring\n",
    "import datetime"
   ]
  },
  {
   "cell_type": "code",
   "execution_count": 2,
   "metadata": {
    "collapsed": true
   },
   "outputs": [],
   "source": [
    "%matplotlib inline\n",
    "pd.options.display.float_format = '{:,.2f}'.format"
   ]
  },
  {
   "cell_type": "code",
   "execution_count": 3,
   "metadata": {
    "collapsed": true
   },
   "outputs": [],
   "source": [
    "def datetime_to_secs(time):  \n",
    "    if type(time) is datetime.time:\n",
    "        secs = time.hour * 3600 + time.minute * 60 + time.second \n",
    "        return secs\n",
    "    else:\n",
    "        print('Provide a datetime.time var')"
   ]
  },
  {
   "cell_type": "code",
   "execution_count": 4,
   "metadata": {
    "collapsed": true
   },
   "outputs": [],
   "source": [
    "def randNormal_time(time, dev):\n",
    "    mean = datetime_to_secs(datetime.datetime.strptime(time, '%H:%M').time())\n",
    "    std = datetime_to_secs(datetime.datetime.strptime(dev, '%H:%M').time())\n",
    "    # Draw from a normal distr\n",
    "    time_secs = np.random.normal(loc=mean, scale=std)\n",
    "    rand_time = str(datetime.timedelta(seconds=time_secs)).split('.')[0]\n",
    "    return rand_time"
   ]
  },
  {
   "cell_type": "code",
   "execution_count": 5,
   "metadata": {
    "collapsed": true
   },
   "outputs": [],
   "source": [
    "class Agent(object):                   \n",
    "    \"\"\" Agent class \"\"\"\n",
    "    def __init__(self, **kwargs):\n",
    "        prop_defaults = {\n",
    "            'id': 'non_defined'\n",
    "        }\n",
    "\n",
    "        for (prop, default) in prop_defaults.items():\n",
    "            setattr(self, prop, kwargs.get(prop, default))\n",
    "\n",
    "        self.plans = list()"
   ]
  },
  {
   "cell_type": "code",
   "execution_count": 6,
   "metadata": {
    "collapsed": true
   },
   "outputs": [],
   "source": [
    "class Plan(object):\n",
    "    \"\"\" Plans class \"\"\"\n",
    "    def __init__(self, **kwargs):\n",
    "        prop_defaults = {\n",
    "            'selected': 'no'\n",
    "        }\n",
    "\n",
    "        for (prop, default) in prop_defaults.items():\n",
    "            setattr(self, prop, kwargs.get(prop, default))\n",
    "\n",
    "        self.activities = list()"
   ]
  },
  {
   "cell_type": "code",
   "execution_count": 7,
   "metadata": {
    "collapsed": true
   },
   "outputs": [],
   "source": [
    "class Activity(object):\n",
    "    \"\"\" Activities class \"\"\"    \n",
    "    def __init__(self, **kwargs):\n",
    "        prop_defaults = {\n",
    "            'type': 'undefined',\n",
    "            'link': None,\n",
    "            'x': None,\n",
    "            'y': None,\n",
    "            'end_time': None\n",
    "        }\n",
    "\n",
    "        for (prop, default) in prop_defaults.items():\n",
    "            setattr(self, prop, kwargs.get(prop, default))\n",
    "        \n",
    "        self.legs = list()"
   ]
  },
  {
   "cell_type": "code",
   "execution_count": 8,
   "metadata": {
    "collapsed": true
   },
   "outputs": [],
   "source": [
    "class Leg(object):\n",
    "    \"\"\" Plans class \"\"\"\n",
    "    def __init__(self, **kwargs):\n",
    "        prop_defaults = {\n",
    "            'mode': 'car'\n",
    "        }\n",
    "\n",
    "        for (prop, default) in prop_defaults.items():\n",
    "            setattr(self, prop, kwargs.get(prop, default))\n",
    "\n",
    "        self.route = None"
   ]
  },
  {
   "cell_type": "code",
   "execution_count": 9,
   "metadata": {
    "collapsed": true
   },
   "outputs": [],
   "source": [
    "class Route(object):\n",
    "    \"\"\" Plans class \"\"\"\n",
    "    def __init__(self, **kwargs):\n",
    "        prop_defaults = {\n",
    "            'type': 'links'\n",
    "        }\n",
    "\n",
    "        for (prop, default) in prop_defaults.items():\n",
    "            setattr(self, prop, kwargs.get(prop, default))\n",
    "\n",
    "        self.value = None"
   ]
  },
  {
   "cell_type": "code",
   "execution_count": 10,
   "metadata": {
    "collapsed": true
   },
   "outputs": [],
   "source": [
    "def write_xml_elem2(c, d, p):\n",
    "    import inspect\n",
    "    \n",
    "    class_name = c.__class__.__name__\n",
    "    \n",
    "    for attr, v in c.__dict__.items():  \n",
    "        if isinstance(v, list):\n",
    "            if inspect.isclass(v[0]):\n",
    "                parent_elem = d[class_name]\n",
    "                SubElement(parent_elem, class_name.lower())\n",
    "                for e in v:\n",
    "                    write_xml_elem(e, d, parent_elem)\n",
    "        else:\n",
    "            if v:\n",
    "                xml_elem = p\n",
    "                xml_elem.set(attr, str(v))"
   ]
  },
  {
   "cell_type": "code",
   "execution_count": 11,
   "metadata": {
    "collapsed": true
   },
   "outputs": [],
   "source": [
    "def write_xml_elem(c, d, p):\n",
    "    import inspect\n",
    "    \n",
    "    class_name = c.__class__.__name__\n",
    "    \n",
    "    for attr, v in c.__dict__.items():  \n",
    "        if isinstance(v, list):\n",
    "            if inspect.isclass(v[0]):\n",
    "                parent_elem = d[class_name]\n",
    "                SubElement(parent_elem, class_name.lower())\n",
    "                for e in v:\n",
    "                    write_xml_elem(e, d, parent_elem)"
   ]
  },
  {
   "cell_type": "code",
   "execution_count": 12,
   "metadata": {
    "collapsed": true
   },
   "outputs": [],
   "source": [
    "def build_pop_xml(pop):\n",
    "    \n",
    "    xml_root = Element('population')\n",
    "    xml_person = SubElement(root, 'person')\n",
    "    xml_plan = SubElement(xml_person, 'plan')\n",
    "    xml_activity = SubElement(xml_plan, 'act')\n",
    "    xml_leg = SubElement(xml_plan, 'leg')\n",
    "    xml_route = SubElement(xml_leg, 'route')\n",
    "\n",
    "    parent_d = {}\n",
    "    parent_d['Agent'] = xml_root\n",
    "    parent_d['Plan'] = xml_person\n",
    "    parent_d['Activity'] = xml_plan\n",
    "    parent_d['Leg'] = xml_plan\n",
    "    parent_d['Route'] = xml_leg\n",
    "        \n",
    "    for person in pop:\n",
    "        write_xml_elem(person, parent_d, xml_root)\n",
    "    return root"
   ]
  },
  {
   "cell_type": "markdown",
   "metadata": {
    "collapsed": true
   },
   "source": [
    "def build_pop_xml2(pop):\n",
    "        \n",
    "    root = Element('population')   \n",
    "    \n",
    "    d['Agent'] = xml_person\n",
    "    d['Plan'] = xml_plan\n",
    "    d['Activity'] = xml_activity\n",
    "    d['Leg'] = xml_leg\n",
    "    d['Route'] = xml_route\n",
    "                    \n",
    "        \n",
    "    xml_person = SubElement(root, 'person')\n",
    "    xml_plan = SubElement(xml_person, 'plan')\n",
    "    xml_activity = SubElement(xml_plan, 'act')\n",
    "    xml_leg = SubElement(xml_plan, 'leg')\n",
    "    xml_route = SubElement(xml_leg, 'route')\n",
    "                   \n",
    "    for person in pop:\n",
    "        for plan in person.plans:\n",
    "            for act in plan.activities: \n",
    "                for leg in act.legs:\n",
    "                    write_xml_elem(person, d)\n",
    "    return root\n"
   ]
  },
  {
   "cell_type": "code",
   "execution_count": 14,
   "metadata": {},
   "outputs": [],
   "source": [
    "#xml = build_pop_xml(pop)"
   ]
  },
  {
   "cell_type": "markdown",
   "metadata": {},
   "source": [
    "# Inputs"
   ]
  },
  {
   "cell_type": "markdown",
   "metadata": {},
   "source": [
    "## Zones"
   ]
  },
  {
   "cell_type": "code",
   "execution_count": 15,
   "metadata": {},
   "outputs": [
    {
     "data": {
      "text/html": [
       "<div>\n",
       "<style>\n",
       "    .dataframe thead tr:only-child th {\n",
       "        text-align: right;\n",
       "    }\n",
       "\n",
       "    .dataframe thead th {\n",
       "        text-align: left;\n",
       "    }\n",
       "\n",
       "    .dataframe tbody tr th {\n",
       "        vertical-align: top;\n",
       "    }\n",
       "</style>\n",
       "<table border=\"1\" class=\"dataframe\">\n",
       "  <thead>\n",
       "    <tr style=\"text-align: right;\">\n",
       "      <th></th>\n",
       "      <th>x</th>\n",
       "      <th>y</th>\n",
       "    </tr>\n",
       "    <tr>\n",
       "      <th>NO</th>\n",
       "      <th></th>\n",
       "      <th></th>\n",
       "    </tr>\n",
       "  </thead>\n",
       "  <tbody>\n",
       "    <tr>\n",
       "      <th>1</th>\n",
       "      <td>232,596.84</td>\n",
       "      <td>393,536.79</td>\n",
       "    </tr>\n",
       "    <tr>\n",
       "      <th>2</th>\n",
       "      <td>232,441.76</td>\n",
       "      <td>393,589.67</td>\n",
       "    </tr>\n",
       "    <tr>\n",
       "      <th>3</th>\n",
       "      <td>232,129.63</td>\n",
       "      <td>393,516.97</td>\n",
       "    </tr>\n",
       "    <tr>\n",
       "      <th>4</th>\n",
       "      <td>232,045.40</td>\n",
       "      <td>393,972.93</td>\n",
       "    </tr>\n",
       "    <tr>\n",
       "      <th>5</th>\n",
       "      <td>231,761.84</td>\n",
       "      <td>393,963.87</td>\n",
       "    </tr>\n",
       "  </tbody>\n",
       "</table>\n",
       "</div>"
      ],
      "text/plain": [
       "             x           y\n",
       "NO                        \n",
       "1   232,596.84  393,536.79\n",
       "2   232,441.76  393,589.67\n",
       "3   232,129.63  393,516.97\n",
       "4   232,045.40  393,972.93\n",
       "5   231,761.84  393,963.87"
      ]
     },
     "execution_count": 15,
     "metadata": {},
     "output_type": "execute_result"
    }
   ],
   "source": [
    "zone_centroids = pd.read_csv('../Network/Zones/zones_centroids_EPSG6312.csv', index_col=3)\n",
    "zone_centroids = zone_centroids[['x', 'y']]\n",
    "zone_centroids.head()"
   ]
  },
  {
   "cell_type": "markdown",
   "metadata": {},
   "source": [
    "## Demand"
   ]
  },
  {
   "cell_type": "code",
   "execution_count": 16,
   "metadata": {},
   "outputs": [
    {
     "name": "stderr",
     "output_type": "stream",
     "text": [
      "C:\\Users\\Work\\Miniconda3\\envs\\py3\\lib\\site-packages\\numpy\\lib\\arraysetops.py:379: FutureWarning: elementwise comparison failed; returning scalar instead, but in the future will perform elementwise comparison\n",
      "  mask |= (ar1 == a)\n"
     ]
    }
   ],
   "source": [
    "mats = pd.read_csv('../Demand/matrices_demand.txt', delimiter=';', index_col=[0,1,2])\n",
    "mats_info = pd.read_csv('../Demand/matrices_info.txt', delimiter=';', index_col=0)"
   ]
  },
  {
   "cell_type": "code",
   "execution_count": 17,
   "metadata": {
    "collapsed": true,
    "scrolled": true
   },
   "outputs": [],
   "source": [
    "df = mats.join(mats_info.NAME)\n",
    "df.reset_index(inplace=True)\n",
    "df = df.drop('MATRIXNO', 1)\n",
    "df['NAME'] = df['NAME'].astype('category')\n",
    "df = df.set_index(['NAME', 'FROMNO', 'TONO'])\n",
    "df.sort_index(inplace=True)"
   ]
  },
  {
   "cell_type": "code",
   "execution_count": 18,
   "metadata": {
    "collapsed": true
   },
   "outputs": [],
   "source": [
    "demand = df.loc[['HBW_C', 'HBW_X', 'HBEDU_C', 'HBEDU_X', 'HBO_C', 'HBO_X', 'HBSH_C', 'HBSH_X', 'NHB_C', 'NHB_X',],:]"
   ]
  },
  {
   "cell_type": "code",
   "execution_count": 19,
   "metadata": {
    "collapsed": true,
    "scrolled": true
   },
   "outputs": [],
   "source": [
    "# Cleaning\n",
    "demand.reset_index(inplace=True)\n",
    "demand = demand.assign(Purpose = lambda x: x.NAME.str.split('_').str[0])\n",
    "demand = demand.assign(Direction = lambda x: x.NAME.str.split('_').str[1])\n",
    "demand.drop('NAME', axis=1, inplace=True)\n",
    "\n",
    "demand.rename(columns={'FROMNO': 'From_Node', 'TONO': 'To_Node', 'VALUE': 'Trips'}, inplace=True)\n",
    "demand.Purpose = demand.Purpose.astype('category')\n",
    "demand.Direction = demand.Direction.astype('category')\n",
    "\n",
    "demand.set_index(['Purpose', 'Direction', 'From_Node', 'To_Node'], inplace=True)"
   ]
  },
  {
   "cell_type": "markdown",
   "metadata": {},
   "source": [
    "### Test demand"
   ]
  },
  {
   "cell_type": "code",
   "execution_count": 18,
   "metadata": {
    "collapsed": true
   },
   "outputs": [],
   "source": [
    "demand_synthPop = demand.xs(['HBW', 'C'], level=[0,1], drop_level=False)"
   ]
  },
  {
   "cell_type": "code",
   "execution_count": 19,
   "metadata": {
    "collapsed": true
   },
   "outputs": [],
   "source": [
    "# Departure time\n",
    "depTime_home = '08:00' # 8 hours\n",
    "depTime_home_dev = '00:30' # deviation\n",
    "\n",
    "depTime_work = '17:00' # 8 hours\n",
    "depTime_work_dev = '00:30' # deviation"
   ]
  },
  {
   "cell_type": "code",
   "execution_count": 20,
   "metadata": {
    "collapsed": true,
    "scrolled": true
   },
   "outputs": [],
   "source": [
    "# Create integer trips\n",
    "# To-Do improve method\n",
    "trips = demand_synthPop.Trips.round()\n",
    "\n",
    "# exclude 0 trips\n",
    "trips = trips[trips!=0]\n",
    "# !!!!!!!!!!!!!!!!\n",
    "#trips = trips.head(1)\n",
    "\n",
    "pop = []\n",
    "\n",
    "agent_id=1\n",
    "for trip in trips.iteritems():\n",
    "    idx = trip[0]\n",
    "    val = trip[1]\n",
    "    # Dictionary with the trips info\n",
    "    d = dict(zip(trips.index.names, idx))\n",
    "    for t in range(0, int(val)):\n",
    "        \n",
    "        # Create the agent\n",
    "        new_agent = Agent(id=agent_id)\n",
    "        \n",
    "        # Create the plans\n",
    "        # we have only one plan\n",
    "        new_plan = Plan(selected='yes')        \n",
    "        \n",
    "        # Create the activities\n",
    "        # Get Node's coords\n",
    "        x, y = zone_centroids.loc[d['From_Node']]\n",
    "        end_time = randNormal_time(depTime_home, depTime_home_dev)\n",
    "\n",
    "        # To-Do must generate random points in the zone\n",
    "        new_act = Activity(type='home', x=x, y=y, end_time=end_time)\n",
    "\n",
    "        # To-Do Simplify code (functionalise)\n",
    "        \n",
    "        # Create the leg\n",
    "        new_leg = Leg(mode='car')\n",
    "        new_act.legs.append(new_leg)\n",
    "        \n",
    "        new_plan.activities.append(new_act)\n",
    "        \n",
    "        x, y = zone_centroids.loc[d['To_Node']]\n",
    "        end_time = randNormal_time(depTime_work, depTime_work_dev)\n",
    "\n",
    "        # To-Do must generate random points in the zone\n",
    "        new_act = Activity(type='work', x=x, y=y, end_time=end_time)\n",
    "        \n",
    "        \n",
    "        # Create the leg\n",
    "        new_leg = Leg(mode='car')\n",
    "        \n",
    "        new_act.legs.append(new_leg)\n",
    "\n",
    "        new_plan.activities.append(new_act)\n",
    "\n",
    "        new_agent.plans.append(new_plan)\n",
    "        \n",
    "        pop.append(new_agent)\n",
    "        agent_id+=1"
   ]
  },
  {
   "cell_type": "code",
   "execution_count": 41,
   "metadata": {
    "collapsed": true
   },
   "outputs": [],
   "source": [
    "xml = build_pop_xml(pop)"
   ]
  },
  {
   "cell_type": "code",
   "execution_count": 42,
   "metadata": {
    "collapsed": true
   },
   "outputs": [],
   "source": [
    "# Write the xml\n",
    "ElementTree(xml).write('pop.xml')"
   ]
  },
  {
   "cell_type": "code",
   "execution_count": null,
   "metadata": {
    "collapsed": true
   },
   "outputs": [],
   "source": []
  }
 ],
 "metadata": {
  "kernelspec": {
   "display_name": "Python 3",
   "language": "python",
   "name": "python3"
  },
  "language_info": {
   "codemirror_mode": {
    "name": "ipython",
    "version": 3
   },
   "file_extension": ".py",
   "mimetype": "text/x-python",
   "name": "python",
   "nbconvert_exporter": "python",
   "pygments_lexer": "ipython3",
   "version": "3.6.1"
  }
 },
 "nbformat": 4,
 "nbformat_minor": 1
}
