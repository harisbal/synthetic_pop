{
 "cells": [
  {
   "cell_type": "code",
   "execution_count": 1,
   "metadata": {
    "collapsed": true
   },
   "outputs": [],
   "source": [
    "import pandas as pd\n",
    "import numpy as np\n",
    "import itertools\n",
    "from xml.etree.ElementTree import Element, SubElement, tostring\n",
    "import datetime"
   ]
  },
  {
   "cell_type": "code",
   "execution_count": 2,
   "metadata": {
    "collapsed": true
   },
   "outputs": [],
   "source": [
    "%matplotlib inline\n",
    "pd.options.display.float_format = '{:,.2f}'.format"
   ]
  },
  {
   "cell_type": "code",
   "execution_count": 3,
   "metadata": {
    "collapsed": true
   },
   "outputs": [],
   "source": [
    "def datetime_to_secs(time):  \n",
    "    if type(time) is datetime.time:\n",
    "        secs = time.hour * 3600 + time.minute * 60 + time.second \n",
    "        return secs\n",
    "    else:\n",
    "        print('Provide a datetime.time var')"
   ]
  },
  {
   "cell_type": "code",
   "execution_count": 4,
   "metadata": {},
   "outputs": [],
   "source": [
    "def randNormal_time(time, dev):\n",
    "    mean = datetime_to_secs(datetime.datetime.strptime(time, '%H:%M').time())\n",
    "    std = datetime_to_secs(datetime.datetime.strptime(dev, '%H:%M').time())\n",
    "    # Draw from a normal distr\n",
    "    time_secs = np.random.normal(loc=mean, scale=std)\n",
    "    rand_time = str(datetime.timedelta(seconds=time_secs)).split('.')[0]\n",
    "    return rand_time"
   ]
  },
  {
   "cell_type": "code",
   "execution_count": 5,
   "metadata": {
    "collapsed": true
   },
   "outputs": [],
   "source": [
    "class Agent(object):                   \n",
    "    \"\"\" Agent class \"\"\"\n",
    "    def __init__(self, **kwargs):\n",
    "        prop_defaults = {\n",
    "            'id': 'non_defined'\n",
    "        }\n",
    "\n",
    "        for (prop, default) in prop_defaults.items():\n",
    "            setattr(self, prop, kwargs.get(prop, default))\n",
    "\n",
    "        self.plans = list()\n",
    "        "
   ]
  },
  {
   "cell_type": "code",
   "execution_count": 6,
   "metadata": {
    "collapsed": true
   },
   "outputs": [],
   "source": [
    "class Plan(object):\n",
    "    \"\"\" Plans class \"\"\"\n",
    "    def __init__(self, **kwargs):\n",
    "        prop_defaults = {\n",
    "            'selected': 'no'\n",
    "        }\n",
    "\n",
    "        for (prop, default) in prop_defaults.items():\n",
    "            setattr(self, prop, kwargs.get(prop, default))\n",
    "\n",
    "        self.activities = list()\n"
   ]
  },
  {
   "cell_type": "code",
   "execution_count": 7,
   "metadata": {
    "collapsed": true
   },
   "outputs": [],
   "source": [
    "class Activity(object):\n",
    "    \"\"\" Activities class \"\"\"    \n",
    "    def __init__(self, **kwargs):\n",
    "        prop_defaults = {\n",
    "            'type': 'undefined',\n",
    "            'link': None,\n",
    "            'x': None,\n",
    "            'y': None,\n",
    "            'end_time': None\n",
    "        }\n",
    "\n",
    "        for (prop, default) in prop_defaults.items():\n",
    "            setattr(self, prop, kwargs.get(prop, default))\n",
    "        \n",
    "        self.legs = list()\n",
    "        "
   ]
  },
  {
   "cell_type": "code",
   "execution_count": 8,
   "metadata": {},
   "outputs": [],
   "source": [
    "class Leg(object):\n",
    "    \"\"\" Plans class \"\"\"\n",
    "    def __init__(self, **kwargs):\n",
    "        prop_defaults = {\n",
    "            'include_routes': False,\n",
    "            'mode': 'car'\n",
    "        }\n",
    "\n",
    "        for (prop, default) in prop_defaults.items():\n",
    "            setattr(self, prop, kwargs.get(prop, default))\n",
    "\n",
    "        # To-Do ftm we leave MATSim to calculate initial routes\n",
    "        if self.include_routes:\n",
    "            self.routes = list()\n",
    "        else:\n",
    "            self.routes = None\n"
   ]
  },
  {
   "cell_type": "code",
   "execution_count": 9,
   "metadata": {
    "collapsed": true
   },
   "outputs": [],
   "source": [
    "class Route(object):\n",
    "    \"\"\" Plans class \"\"\"\n",
    "    def __init__(self, **kwargs):\n",
    "        prop_defaults = {\n",
    "            'type': 'links'\n",
    "        }\n",
    "\n",
    "        for (prop, default) in prop_defaults.items():\n",
    "            setattr(self, prop, kwargs.get(prop, default))\n",
    "\n",
    "        self.value = None"
   ]
  },
  {
   "cell_type": "markdown",
   "metadata": {},
   "source": [
    "# Inputs"
   ]
  },
  {
   "cell_type": "markdown",
   "metadata": {},
   "source": [
    "## Zones"
   ]
  },
  {
   "cell_type": "code",
   "execution_count": 10,
   "metadata": {},
   "outputs": [
    {
     "data": {
      "text/html": [
       "<div>\n",
       "<style>\n",
       "    .dataframe thead tr:only-child th {\n",
       "        text-align: right;\n",
       "    }\n",
       "\n",
       "    .dataframe thead th {\n",
       "        text-align: left;\n",
       "    }\n",
       "\n",
       "    .dataframe tbody tr th {\n",
       "        vertical-align: top;\n",
       "    }\n",
       "</style>\n",
       "<table border=\"1\" class=\"dataframe\">\n",
       "  <thead>\n",
       "    <tr style=\"text-align: right;\">\n",
       "      <th></th>\n",
       "      <th>x</th>\n",
       "      <th>y</th>\n",
       "    </tr>\n",
       "    <tr>\n",
       "      <th>NO</th>\n",
       "      <th></th>\n",
       "      <th></th>\n",
       "    </tr>\n",
       "  </thead>\n",
       "  <tbody>\n",
       "    <tr>\n",
       "      <th>1</th>\n",
       "      <td>532,581.66</td>\n",
       "      <td>3,892,173.91</td>\n",
       "    </tr>\n",
       "    <tr>\n",
       "      <th>2</th>\n",
       "      <td>532,426.63</td>\n",
       "      <td>3,892,226.77</td>\n",
       "    </tr>\n",
       "    <tr>\n",
       "      <th>3</th>\n",
       "      <td>532,114.61</td>\n",
       "      <td>3,892,154.10</td>\n",
       "    </tr>\n",
       "    <tr>\n",
       "      <th>4</th>\n",
       "      <td>532,030.41</td>\n",
       "      <td>3,892,609.90</td>\n",
       "    </tr>\n",
       "    <tr>\n",
       "      <th>5</th>\n",
       "      <td>531,746.95</td>\n",
       "      <td>3,892,600.84</td>\n",
       "    </tr>\n",
       "  </tbody>\n",
       "</table>\n",
       "</div>"
      ],
      "text/plain": [
       "            x            y\n",
       "NO                        \n",
       "1  532,581.66 3,892,173.91\n",
       "2  532,426.63 3,892,226.77\n",
       "3  532,114.61 3,892,154.10\n",
       "4  532,030.41 3,892,609.90\n",
       "5  531,746.95 3,892,600.84"
      ]
     },
     "execution_count": 10,
     "metadata": {},
     "output_type": "execute_result"
    }
   ],
   "source": [
    "zone_centroids = pd.read_csv('../Network/Zones/zones_centroids_EPSG6312.csv', index_col=3)\n",
    "zone_centroids = zone_centroids[['x', 'y']]\n",
    "zone_centroids.head()"
   ]
  },
  {
   "cell_type": "markdown",
   "metadata": {},
   "source": [
    "## Demand"
   ]
  },
  {
   "cell_type": "code",
   "execution_count": 11,
   "metadata": {},
   "outputs": [
    {
     "name": "stderr",
     "output_type": "stream",
     "text": [
      "C:\\Users\\Work\\Miniconda3\\envs\\py3\\lib\\site-packages\\numpy\\lib\\arraysetops.py:379: FutureWarning: elementwise comparison failed; returning scalar instead, but in the future will perform elementwise comparison\n",
      "  mask |= (ar1 == a)\n"
     ]
    }
   ],
   "source": [
    "mats = pd.read_csv('../Demand/matrices_demand.txt', delimiter=';', index_col=[0,1,2])\n",
    "mats_info = pd.read_csv('../Demand/matrices_info.txt', delimiter=';', index_col=0)"
   ]
  },
  {
   "cell_type": "code",
   "execution_count": 12,
   "metadata": {},
   "outputs": [
    {
     "data": {
      "text/html": [
       "<div>\n",
       "<style>\n",
       "    .dataframe thead tr:only-child th {\n",
       "        text-align: right;\n",
       "    }\n",
       "\n",
       "    .dataframe thead th {\n",
       "        text-align: left;\n",
       "    }\n",
       "\n",
       "    .dataframe tbody tr th {\n",
       "        vertical-align: top;\n",
       "    }\n",
       "</style>\n",
       "<table border=\"1\" class=\"dataframe\">\n",
       "  <thead>\n",
       "    <tr style=\"text-align: right;\">\n",
       "      <th></th>\n",
       "      <th></th>\n",
       "      <th></th>\n",
       "      <th>VALUE</th>\n",
       "    </tr>\n",
       "    <tr>\n",
       "      <th>MATRIXNO</th>\n",
       "      <th>FROMNO</th>\n",
       "      <th>TONO</th>\n",
       "      <th></th>\n",
       "    </tr>\n",
       "  </thead>\n",
       "  <tbody>\n",
       "    <tr>\n",
       "      <th rowspan=\"5\" valign=\"top\">1</th>\n",
       "      <th rowspan=\"4\" valign=\"top\">1</th>\n",
       "      <th>3000</th>\n",
       "      <td>3.00</td>\n",
       "    </tr>\n",
       "    <tr>\n",
       "      <th>4000</th>\n",
       "      <td>17.00</td>\n",
       "    </tr>\n",
       "    <tr>\n",
       "      <th>5000</th>\n",
       "      <td>11.00</td>\n",
       "    </tr>\n",
       "    <tr>\n",
       "      <th>6000</th>\n",
       "      <td>2.00</td>\n",
       "    </tr>\n",
       "    <tr>\n",
       "      <th>2</th>\n",
       "      <th>4000</th>\n",
       "      <td>1.00</td>\n",
       "    </tr>\n",
       "  </tbody>\n",
       "</table>\n",
       "</div>"
      ],
      "text/plain": [
       "                      VALUE\n",
       "MATRIXNO FROMNO TONO       \n",
       "1        1      3000   3.00\n",
       "                4000  17.00\n",
       "                5000  11.00\n",
       "                6000   2.00\n",
       "         2      4000   1.00"
      ]
     },
     "execution_count": 12,
     "metadata": {},
     "output_type": "execute_result"
    }
   ],
   "source": [
    "mats.head()"
   ]
  },
  {
   "cell_type": "code",
   "execution_count": 13,
   "metadata": {},
   "outputs": [
    {
     "data": {
      "text/html": [
       "<div>\n",
       "<style>\n",
       "    .dataframe thead tr:only-child th {\n",
       "        text-align: right;\n",
       "    }\n",
       "\n",
       "    .dataframe thead th {\n",
       "        text-align: left;\n",
       "    }\n",
       "\n",
       "    .dataframe tbody tr th {\n",
       "        vertical-align: top;\n",
       "    }\n",
       "</style>\n",
       "<table border=\"1\" class=\"dataframe\">\n",
       "  <thead>\n",
       "    <tr style=\"text-align: right;\">\n",
       "      <th></th>\n",
       "      <th>CODE</th>\n",
       "      <th>NAME</th>\n",
       "      <th>MATRIXTYPE</th>\n",
       "      <th>OBJECTTYPEREF</th>\n",
       "      <th>DSEGCODE</th>\n",
       "      <th>FILENAME</th>\n",
       "      <th>RANDOMROUND</th>\n",
       "      <th>NUMDECPLACES</th>\n",
       "      <th>DATASOURCETYPE</th>\n",
       "      <th>FORMULA</th>\n",
       "    </tr>\n",
       "    <tr>\n",
       "      <th>MATRIXNO</th>\n",
       "      <th></th>\n",
       "      <th></th>\n",
       "      <th></th>\n",
       "      <th></th>\n",
       "      <th></th>\n",
       "      <th></th>\n",
       "      <th></th>\n",
       "      <th></th>\n",
       "      <th></th>\n",
       "      <th></th>\n",
       "    </tr>\n",
       "  </thead>\n",
       "  <tbody>\n",
       "    <tr>\n",
       "      <th>1</th>\n",
       "      <td>External_All</td>\n",
       "      <td>External_All</td>\n",
       "      <td>Demand</td>\n",
       "      <td>Zone</td>\n",
       "      <td>NaN</td>\n",
       "      <td>nan</td>\n",
       "      <td>0</td>\n",
       "      <td>3</td>\n",
       "      <td>Data</td>\n",
       "      <td>NaN</td>\n",
       "    </tr>\n",
       "    <tr>\n",
       "      <th>2</th>\n",
       "      <td>External_PrT</td>\n",
       "      <td>External_PrT</td>\n",
       "      <td>Demand</td>\n",
       "      <td>Zone</td>\n",
       "      <td>NaN</td>\n",
       "      <td>nan</td>\n",
       "      <td>0</td>\n",
       "      <td>3</td>\n",
       "      <td>Data</td>\n",
       "      <td>NaN</td>\n",
       "    </tr>\n",
       "    <tr>\n",
       "      <th>3</th>\n",
       "      <td>External_PuT</td>\n",
       "      <td>External_PuT</td>\n",
       "      <td>Demand</td>\n",
       "      <td>Zone</td>\n",
       "      <td>NaN</td>\n",
       "      <td>nan</td>\n",
       "      <td>0</td>\n",
       "      <td>3</td>\n",
       "      <td>Data</td>\n",
       "      <td>NaN</td>\n",
       "    </tr>\n",
       "    <tr>\n",
       "      <th>4</th>\n",
       "      <td>Goods</td>\n",
       "      <td>Goods</td>\n",
       "      <td>Demand</td>\n",
       "      <td>Zone</td>\n",
       "      <td>NaN</td>\n",
       "      <td>nan</td>\n",
       "      <td>0</td>\n",
       "      <td>3</td>\n",
       "      <td>Data</td>\n",
       "      <td>NaN</td>\n",
       "    </tr>\n",
       "    <tr>\n",
       "      <th>5</th>\n",
       "      <td>HBW</td>\n",
       "      <td>HBW</td>\n",
       "      <td>Demand</td>\n",
       "      <td>Zone</td>\n",
       "      <td>NaN</td>\n",
       "      <td>nan</td>\n",
       "      <td>0</td>\n",
       "      <td>3</td>\n",
       "      <td>Data</td>\n",
       "      <td>NaN</td>\n",
       "    </tr>\n",
       "  </tbody>\n",
       "</table>\n",
       "</div>"
      ],
      "text/plain": [
       "                  CODE          NAME MATRIXTYPE OBJECTTYPEREF DSEGCODE  \\\n",
       "MATRIXNO                                                                 \n",
       "1         External_All  External_All     Demand          Zone      NaN   \n",
       "2         External_PrT  External_PrT     Demand          Zone      NaN   \n",
       "3         External_PuT  External_PuT     Demand          Zone      NaN   \n",
       "4                Goods         Goods     Demand          Zone      NaN   \n",
       "5                  HBW           HBW     Demand          Zone      NaN   \n",
       "\n",
       "          FILENAME  RANDOMROUND  NUMDECPLACES DATASOURCETYPE FORMULA  \n",
       "MATRIXNO                                                              \n",
       "1              nan            0             3           Data     NaN  \n",
       "2              nan            0             3           Data     NaN  \n",
       "3              nan            0             3           Data     NaN  \n",
       "4              nan            0             3           Data     NaN  \n",
       "5              nan            0             3           Data     NaN  "
      ]
     },
     "execution_count": 13,
     "metadata": {},
     "output_type": "execute_result"
    }
   ],
   "source": [
    "mats_info.head()"
   ]
  },
  {
   "cell_type": "code",
   "execution_count": 14,
   "metadata": {
    "collapsed": true,
    "scrolled": true
   },
   "outputs": [],
   "source": [
    "df = mats.join(mats_info.NAME)\n",
    "df.reset_index(inplace=True)\n",
    "df = df.drop('MATRIXNO', 1)\n",
    "df['NAME'] = df['NAME'].astype('category')\n",
    "df = df.set_index(['NAME', 'FROMNO', 'TONO'])\n",
    "df.sort_index(inplace=True)"
   ]
  },
  {
   "cell_type": "code",
   "execution_count": 15,
   "metadata": {
    "collapsed": true
   },
   "outputs": [],
   "source": [
    "demand = df.loc[['HBW_C', 'HBW_X', 'HBEDU_C', 'HBEDU_X', 'HBO_C', 'HBO_X', 'HBSH_C', 'HBSH_X', 'NHB_C', 'NHB_X',],:]"
   ]
  },
  {
   "cell_type": "code",
   "execution_count": 16,
   "metadata": {
    "scrolled": true
   },
   "outputs": [],
   "source": [
    "# Cleaning\n",
    "demand.reset_index(inplace=True)\n",
    "demand = demand.assign(Purpose = lambda x: x.NAME.str.split('_').str[0])\n",
    "demand = demand.assign(Direction = lambda x: x.NAME.str.split('_').str[1])\n",
    "demand.drop('NAME', axis=1, inplace=True)\n",
    "\n",
    "demand.rename(columns={'FROMNO': 'From_Node', 'TONO': 'To_Node', 'VALUE': 'Trips'}, inplace=True)\n",
    "demand.Purpose.astype('category')\n",
    "demand.Direction.astype('category')\n",
    "\n",
    "demand.set_index(['Purpose', 'Direction', 'From_Node', 'To_Node'], inplace=True)"
   ]
  },
  {
   "cell_type": "markdown",
   "metadata": {},
   "source": [
    "### Test demand"
   ]
  },
  {
   "cell_type": "markdown",
   "metadata": {},
   "source": [
    "## "
   ]
  },
  {
   "cell_type": "code",
   "execution_count": 17,
   "metadata": {},
   "outputs": [],
   "source": [
    "demand_synthPop = demand.xs(['HBW', 'C'], level=[0,1], drop_level=False)"
   ]
  },
  {
   "cell_type": "code",
   "execution_count": 19,
   "metadata": {},
   "outputs": [],
   "source": [
    "# Departure time\n",
    "depTime = '08:00' # 8 hours\n",
    "depTime_dev = '00:30' # deviation"
   ]
  },
  {
   "cell_type": "code",
   "execution_count": 20,
   "metadata": {
    "scrolled": true
   },
   "outputs": [],
   "source": [
    "# Create integer trips\n",
    "# To-Do improve method\n",
    "trips = demand_synthPop.Trips.round()\n",
    "\n",
    "# exclude 0 trips\n",
    "trips = trips[trips!=0]\n",
    "# !!!!!!!!!!!!!!!!\n",
    "trips = trips.head(10)\n",
    "\n",
    "pop = []\n",
    "\n",
    "agent_id=1\n",
    "for trip in trips.iteritems():\n",
    "    idx = trip[0]\n",
    "    val = trip[1]\n",
    "    # Dictionary with the trips info\n",
    "    d = dict(zip(trips.index.names, idx))\n",
    "    for t in range(0, int(val)):\n",
    "        \n",
    "        # Create the agent\n",
    "        new_agent = Agent(id=agent_id)\n",
    "        \n",
    "        # Create the plans\n",
    "        # we have only one plan\n",
    "        new_plan = Plan(selected='yes')        \n",
    "        \n",
    "        # Create the activities\n",
    "        # Get Node's coords\n",
    "        x, y = zone_centroids.loc[d['From_Node']]\n",
    "        end_time = randNormal_time(depTime, depTime_dev)\n",
    "                \n",
    "        # To-Do must generate random points in the zone\n",
    "        new_act = Activity(type=d['Purpose'], x=x, y=y, end_time=end_time)\n",
    "        \n",
    "        # Create the leg\n",
    "        new_leg = Leg(mode='car')\n",
    "        \n",
    "        new_act.legs.append(new_leg)\n",
    "        new_plan.activities.append(new_act)\n",
    "        new_agent.plans.append(new_plan)\n",
    "        pop.append(new_agent)\n",
    "        agent_id+=1\n",
    "        "
   ]
  },
  {
   "cell_type": "code",
   "execution_count": null,
   "metadata": {},
   "outputs": [],
   "source": [
    "def build_pop_xml(pop):\n",
    "    import collections\n",
    "\n",
    "    root = Element('population')\n",
    "   \n",
    "    xml_person = SubElement(root, 'person')\n",
    "    xml_plan = SubElement(xml_person, 'plan')\n",
    "    xml_activity = SubElement(xml_plan, 'act')\n",
    "    xml_leg = SubElement(xml_plan, 'leg')\n",
    "    xml_route = SubElement(xml_leg, 'route')\n",
    "\n",
    "    d = {'person': xml_person,\n",
    "         'plan': xml_plan,\n",
    "         'activity': xml_activity,\n",
    "         'leg': xml_leg,\n",
    "         'route': xml_route}\n",
    "    \n",
    "    elems = collections.OrderedDict(d)\n",
    "\n",
    "    \n",
    "    for person in pop:\n",
    "        expand_class(person)\n",
    "            \n",
    "            \n",
    "    print(tostring(root))\n",
    "#            for act in plans.activities:\n",
    "#                for leg in act.legs:\n",
    "#                    for route in leg.routes:\n",
    "#                        \n",
    "#        \n",
    "#    for k1, elem in elems.items():\n",
    "#        for k2, attr in attrs[k1].items():\n",
    "#            elem.set(k2, attr)\n",
    "#"
   ]
  },
  {
   "cell_type": "code",
   "execution_count": 47,
   "metadata": {
    "collapsed": true
   },
   "outputs": [],
   "source": [
    "def expand_class(c):\n",
    "    for attr, v in c.__dict__.items():\n",
    "        if isinstance(v, list):\n",
    "            for e in v:\n",
    "                myprint(e)\n",
    "        else:\n",
    "            \n",
    "            print(\"{0} :: {1} ::: {2}\".format(c.__class__.__name__, attr, v))\n"
   ]
  },
  {
   "cell_type": "code",
   "execution_count": 48,
   "metadata": {},
   "outputs": [
    {
     "name": "stdout",
     "output_type": "stream",
     "text": [
      "Agent :: id ::: 1\n",
      "Plan :: selected ::: yes\n",
      "Activity :: type ::: HBW\n",
      "Activity :: link ::: None\n",
      "Activity :: x ::: 532581.655663\n",
      "Activity :: y ::: 3892173.90964\n",
      "Activity :: end_time ::: 7:53:05\n",
      "Leg :: include_routes ::: False\n",
      "Leg :: mode ::: car\n",
      "Leg :: routes ::: None\n",
      "Agent :: id ::: 2\n",
      "Plan :: selected ::: yes\n",
      "Activity :: type ::: HBW\n",
      "Activity :: link ::: None\n",
      "Activity :: x ::: 532581.655663\n",
      "Activity :: y ::: 3892173.90964\n",
      "Activity :: end_time ::: 7:46:15\n",
      "Leg :: include_routes ::: False\n",
      "Leg :: mode ::: car\n",
      "Leg :: routes ::: None\n",
      "Agent :: id ::: 3\n",
      "Plan :: selected ::: yes\n",
      "Activity :: type ::: HBW\n",
      "Activity :: link ::: None\n",
      "Activity :: x ::: 532581.655663\n",
      "Activity :: y ::: 3892173.90964\n",
      "Activity :: end_time ::: 8:10:53\n",
      "Leg :: include_routes ::: False\n",
      "Leg :: mode ::: car\n",
      "Leg :: routes ::: None\n",
      "Agent :: id ::: 4\n",
      "Plan :: selected ::: yes\n",
      "Activity :: type ::: HBW\n",
      "Activity :: link ::: None\n",
      "Activity :: x ::: 532581.655663\n",
      "Activity :: y ::: 3892173.90964\n",
      "Activity :: end_time ::: 7:54:46\n",
      "Leg :: include_routes ::: False\n",
      "Leg :: mode ::: car\n",
      "Leg :: routes ::: None\n",
      "Agent :: id ::: 5\n",
      "Plan :: selected ::: yes\n",
      "Activity :: type ::: HBW\n",
      "Activity :: link ::: None\n",
      "Activity :: x ::: 532581.655663\n",
      "Activity :: y ::: 3892173.90964\n",
      "Activity :: end_time ::: 8:04:09\n",
      "Leg :: include_routes ::: False\n",
      "Leg :: mode ::: car\n",
      "Leg :: routes ::: None\n",
      "Agent :: id ::: 6\n",
      "Plan :: selected ::: yes\n",
      "Activity :: type ::: HBW\n",
      "Activity :: link ::: None\n",
      "Activity :: x ::: 532581.655663\n",
      "Activity :: y ::: 3892173.90964\n",
      "Activity :: end_time ::: 8:50:41\n",
      "Leg :: include_routes ::: False\n",
      "Leg :: mode ::: car\n",
      "Leg :: routes ::: None\n",
      "Agent :: id ::: 7\n",
      "Plan :: selected ::: yes\n",
      "Activity :: type ::: HBW\n",
      "Activity :: link ::: None\n",
      "Activity :: x ::: 532581.655663\n",
      "Activity :: y ::: 3892173.90964\n",
      "Activity :: end_time ::: 7:47:39\n",
      "Leg :: include_routes ::: False\n",
      "Leg :: mode ::: car\n",
      "Leg :: routes ::: None\n",
      "Agent :: id ::: 8\n",
      "Plan :: selected ::: yes\n",
      "Activity :: type ::: HBW\n",
      "Activity :: link ::: None\n",
      "Activity :: x ::: 532581.655663\n",
      "Activity :: y ::: 3892173.90964\n",
      "Activity :: end_time ::: 7:25:20\n",
      "Leg :: include_routes ::: False\n",
      "Leg :: mode ::: car\n",
      "Leg :: routes ::: None\n",
      "Agent :: id ::: 9\n",
      "Plan :: selected ::: yes\n",
      "Activity :: type ::: HBW\n",
      "Activity :: link ::: None\n",
      "Activity :: x ::: 532581.655663\n",
      "Activity :: y ::: 3892173.90964\n",
      "Activity :: end_time ::: 7:52:14\n",
      "Leg :: include_routes ::: False\n",
      "Leg :: mode ::: car\n",
      "Leg :: routes ::: None\n",
      "Agent :: id ::: 10\n",
      "Plan :: selected ::: yes\n",
      "Activity :: type ::: HBW\n",
      "Activity :: link ::: None\n",
      "Activity :: x ::: 532581.655663\n",
      "Activity :: y ::: 3892173.90964\n",
      "Activity :: end_time ::: 7:41:50\n",
      "Leg :: include_routes ::: False\n",
      "Leg :: mode ::: car\n",
      "Leg :: routes ::: None\n"
     ]
    }
   ],
   "source": [
    "for person in pop:\n",
    "    expand_class(person)"
   ]
  },
  {
   "cell_type": "code",
   "execution_count": 26,
   "metadata": {},
   "outputs": [
    {
     "data": {
      "text/plain": [
       "dict_items([('selected', 'yes'), ('activities', [<__main__.Activity object at 0x000001700AE9FA20>])])"
      ]
     },
     "execution_count": 26,
     "metadata": {},
     "output_type": "execute_result"
    }
   ],
   "source": [
    "pop[0].plans[0].__dict__.items()"
   ]
  },
  {
   "cell_type": "code",
   "execution_count": null,
   "metadata": {
    "collapsed": true
   },
   "outputs": [],
   "source": [
    "\n",
    "\n",
    "attrs = {}\n",
    "attrs['person'] = {'id': agent_id} \n",
    "attrs['activity'] = {'type': activity_type, \n",
    "                        'x': coord_x,\n",
    "                        'y': coord_y\n",
    "                    }\n",
    "\n",
    "attrs['plan'] = {'selected': '1'} \n",
    "attrs['leg'] = {'mode': mode} \n"
   ]
  },
  {
   "cell_type": "markdown",
   "metadata": {},
   "source": [
    "<population >\n",
    "<person id= \"1\">\n",
    "<plan selected= \"yes \" score= \" 93.2987721 \">\n",
    "<act type= \" home \" link= \"1\" end_time= \" 07:16:23 \" />\n",
    "<leg mode= \"car \">\n",
    "<route type= \" links \">1 2 3</ route >\n",
    "</ leg >\n",
    "<act type= \" work \" link= \"3\" end_time= \" 17:38:34 \" />\n",
    "<leg mode= \"car \">\n",
    "<route type= \" links \">3 1</ route >\n",
    "</ leg >\n",
    "<act type= \" home \" link= \"1\" />\n",
    "</ plan >\n",
    "</ person >\n",
    "<person id= \"2\">\n",
    "<plan selected= \"yes \" score= \" 144.39002 \">\n",
    "...\n",
    "</ plan >\n",
    "</ person >\n",
    "</ population >"
   ]
  },
  {
   "cell_type": "markdown",
   "metadata": {
    "collapsed": true
   },
   "source": [
    "main_nodes = pd.read_csv(r'C:\\Users\\haris.ballis\\OneDrive - Transport Systems Catapult\\Personal\\PhD\\Model_Cyprus\\Data\\Network\\Zones\\nodes_in-fully-detailed-area.csv')\n",
    "mn = main_nodes.NO.tolist()"
   ]
  },
  {
   "cell_type": "markdown",
   "metadata": {
    "collapsed": true
   },
   "source": [
    "idxsl = pd.IndexSlice\n",
    "int_demand = demand.loc[idxsl[:, :, mn, mn], :]"
   ]
  },
  {
   "cell_type": "code",
   "execution_count": null,
   "metadata": {
    "collapsed": true
   },
   "outputs": [],
   "source": []
  }
 ],
 "metadata": {
  "kernelspec": {
   "display_name": "Python 3",
   "language": "python",
   "name": "python3"
  },
  "language_info": {
   "codemirror_mode": {
    "name": "ipython",
    "version": 3
   },
   "file_extension": ".py",
   "mimetype": "text/x-python",
   "name": "python",
   "nbconvert_exporter": "python",
   "pygments_lexer": "ipython3",
   "version": "3.6.1"
  }
 },
 "nbformat": 4,
 "nbformat_minor": 2
}
