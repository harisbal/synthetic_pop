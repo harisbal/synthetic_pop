{
 "cells": [
  {
   "cell_type": "code",
   "execution_count": 32,
   "metadata": {},
   "outputs": [],
   "source": [
    "import pandas as pd\n",
    "import numpy as np\n",
    "import itertools\n",
    "from xml.etree.ElementTree import ElementTree, Element, SubElement, tostring\n",
    "import datetime"
   ]
  },
  {
   "cell_type": "code",
   "execution_count": 33,
   "metadata": {
    "collapsed": true
   },
   "outputs": [],
   "source": [
    "%matplotlib inline\n",
    "pd.options.display.float_format = '{:,.2f}'.format"
   ]
  },
  {
   "cell_type": "code",
   "execution_count": 34,
   "metadata": {
    "collapsed": true
   },
   "outputs": [],
   "source": [
    "def datetime_to_secs(time):  \n",
    "    if type(time) is datetime.time:\n",
    "        secs = time.hour * 3600 + time.minute * 60 + time.second \n",
    "        return secs\n",
    "    else:\n",
    "        print('Provide a datetime.time var')"
   ]
  },
  {
   "cell_type": "code",
   "execution_count": 35,
   "metadata": {
    "collapsed": true
   },
   "outputs": [],
   "source": [
    "def randNormal_time(time, dev):\n",
    "    mean = datetime_to_secs(datetime.datetime.strptime(time, '%H:%M').time())\n",
    "    std = datetime_to_secs(datetime.datetime.strptime(dev, '%H:%M').time())\n",
    "    # Draw from a normal distr\n",
    "    time_secs = np.random.normal(loc=mean, scale=std)\n",
    "    rand_time = str(datetime.timedelta(seconds=time_secs)).split('.')[0]\n",
    "    return rand_time"
   ]
  },
  {
   "cell_type": "code",
   "execution_count": 36,
   "metadata": {
    "collapsed": true
   },
   "outputs": [],
   "source": [
    "class Agent(object):                   \n",
    "    \"\"\" Agent class \"\"\"\n",
    "    def __init__(self, **kwargs):\n",
    "        prop_defaults = {\n",
    "            'id': 'non_defined'\n",
    "        }\n",
    "\n",
    "        for (prop, default) in prop_defaults.items():\n",
    "            setattr(self, prop, kwargs.get(prop, default))\n",
    "\n",
    "        self.plans = list()\n",
    "        "
   ]
  },
  {
   "cell_type": "code",
   "execution_count": 37,
   "metadata": {
    "collapsed": true
   },
   "outputs": [],
   "source": [
    "class Plan(object):\n",
    "    \"\"\" Plans class \"\"\"\n",
    "    def __init__(self, **kwargs):\n",
    "        prop_defaults = {\n",
    "            'selected': 'no'\n",
    "        }\n",
    "\n",
    "        for (prop, default) in prop_defaults.items():\n",
    "            setattr(self, prop, kwargs.get(prop, default))\n",
    "\n",
    "        self.activities = list()\n"
   ]
  },
  {
   "cell_type": "code",
   "execution_count": 38,
   "metadata": {
    "collapsed": true
   },
   "outputs": [],
   "source": [
    "class Activity(object):\n",
    "    \"\"\" Activities class \"\"\"    \n",
    "    def __init__(self, **kwargs):\n",
    "        prop_defaults = {\n",
    "            'type': 'undefined',\n",
    "            'link': None,\n",
    "            'x': None,\n",
    "            'y': None,\n",
    "            'end_time': None\n",
    "        }\n",
    "\n",
    "        for (prop, default) in prop_defaults.items():\n",
    "            setattr(self, prop, kwargs.get(prop, default))\n",
    "        \n",
    "        self.legs = list()\n",
    "        "
   ]
  },
  {
   "cell_type": "code",
   "execution_count": 39,
   "metadata": {
    "collapsed": true
   },
   "outputs": [],
   "source": [
    "class Leg(object):\n",
    "    \"\"\" Plans class \"\"\"\n",
    "    def __init__(self, **kwargs):\n",
    "        prop_defaults = {\n",
    "            'include_routes': False,\n",
    "            'mode': 'car'\n",
    "        }\n",
    "\n",
    "        for (prop, default) in prop_defaults.items():\n",
    "            setattr(self, prop, kwargs.get(prop, default))\n",
    "\n",
    "        self.routes = list()\n"
   ]
  },
  {
   "cell_type": "code",
   "execution_count": 40,
   "metadata": {
    "collapsed": true
   },
   "outputs": [],
   "source": [
    "class Route(object):\n",
    "    \"\"\" Plans class \"\"\"\n",
    "    def __init__(self, **kwargs):\n",
    "        prop_defaults = {\n",
    "            'type': 'links'\n",
    "        }\n",
    "\n",
    "        for (prop, default) in prop_defaults.items():\n",
    "            setattr(self, prop, kwargs.get(prop, default))\n",
    "\n",
    "        self.value = None"
   ]
  },
  {
   "cell_type": "code",
   "execution_count": 41,
   "metadata": {
    "collapsed": true
   },
   "outputs": [],
   "source": [
    "def write_xml_elem(c, root, d):\n",
    "    for attr, v in c.__dict__.items():\n",
    "        if isinstance(v, list):\n",
    "            for e in v:\n",
    "                write_xml_elem(e, root, d)\n",
    "        else:\n",
    "            if v:\n",
    "                class_name = c.__class__.__name__\n",
    "                elem = d[class_name]\n",
    "                elem.set(attr, str(v))\n",
    "                d[class_name] = elem\n",
    "            "
   ]
  },
  {
   "cell_type": "code",
   "execution_count": 42,
   "metadata": {
    "collapsed": true
   },
   "outputs": [],
   "source": [
    "def build_pop_xml(pop):\n",
    "\n",
    "    root = Element('population')\n",
    "   \n",
    "    for person in pop:\n",
    "        xml_person = SubElement(root, 'person')\n",
    "        xml_plan = SubElement(xml_person, 'plan')\n",
    "        xml_activity = SubElement(xml_plan, 'act')\n",
    "        xml_leg = SubElement(xml_plan, 'leg')\n",
    "        xml_route = SubElement(xml_leg, 'route')\n",
    "\n",
    "        d = {'Agent': xml_person,\n",
    "             'Plan': xml_plan,\n",
    "             'Activity': xml_activity,\n",
    "             'Leg': xml_leg,\n",
    "             'Route': xml_route}\n",
    "\n",
    "        write_xml_elem(person, root, d)\n",
    "    return root\n"
   ]
  },
  {
   "cell_type": "markdown",
   "metadata": {},
   "source": [
    "# Inputs"
   ]
  },
  {
   "cell_type": "markdown",
   "metadata": {},
   "source": [
    "## Zones"
   ]
  },
  {
   "cell_type": "code",
   "execution_count": 43,
   "metadata": {},
   "outputs": [
    {
     "data": {
      "text/html": [
       "<div>\n",
       "<style>\n",
       "    .dataframe thead tr:only-child th {\n",
       "        text-align: right;\n",
       "    }\n",
       "\n",
       "    .dataframe thead th {\n",
       "        text-align: left;\n",
       "    }\n",
       "\n",
       "    .dataframe tbody tr th {\n",
       "        vertical-align: top;\n",
       "    }\n",
       "</style>\n",
       "<table border=\"1\" class=\"dataframe\">\n",
       "  <thead>\n",
       "    <tr style=\"text-align: right;\">\n",
       "      <th></th>\n",
       "      <th>x</th>\n",
       "      <th>y</th>\n",
       "    </tr>\n",
       "    <tr>\n",
       "      <th>NO</th>\n",
       "      <th></th>\n",
       "      <th></th>\n",
       "    </tr>\n",
       "  </thead>\n",
       "  <tbody>\n",
       "    <tr>\n",
       "      <th>1</th>\n",
       "      <td>532,581.66</td>\n",
       "      <td>3,892,173.91</td>\n",
       "    </tr>\n",
       "    <tr>\n",
       "      <th>2</th>\n",
       "      <td>532,426.63</td>\n",
       "      <td>3,892,226.77</td>\n",
       "    </tr>\n",
       "    <tr>\n",
       "      <th>3</th>\n",
       "      <td>532,114.61</td>\n",
       "      <td>3,892,154.10</td>\n",
       "    </tr>\n",
       "    <tr>\n",
       "      <th>4</th>\n",
       "      <td>532,030.41</td>\n",
       "      <td>3,892,609.90</td>\n",
       "    </tr>\n",
       "    <tr>\n",
       "      <th>5</th>\n",
       "      <td>531,746.95</td>\n",
       "      <td>3,892,600.84</td>\n",
       "    </tr>\n",
       "  </tbody>\n",
       "</table>\n",
       "</div>"
      ],
      "text/plain": [
       "            x            y\n",
       "NO                        \n",
       "1  532,581.66 3,892,173.91\n",
       "2  532,426.63 3,892,226.77\n",
       "3  532,114.61 3,892,154.10\n",
       "4  532,030.41 3,892,609.90\n",
       "5  531,746.95 3,892,600.84"
      ]
     },
     "execution_count": 43,
     "metadata": {},
     "output_type": "execute_result"
    }
   ],
   "source": [
    "zone_centroids = pd.read_csv('../Network/Zones/zones_centroids_EPSG6312.csv', index_col=3)\n",
    "zone_centroids = zone_centroids[['x', 'y']]\n",
    "zone_centroids.head()"
   ]
  },
  {
   "cell_type": "markdown",
   "metadata": {},
   "source": [
    "## Demand"
   ]
  },
  {
   "cell_type": "code",
   "execution_count": 44,
   "metadata": {},
   "outputs": [
    {
     "name": "stderr",
     "output_type": "stream",
     "text": [
      "C:\\Users\\haris.ballis\\.conda\\envs\\py3\\lib\\site-packages\\numpy\\lib\\arraysetops.py:395: FutureWarning: elementwise comparison failed; returning scalar instead, but in the future will perform elementwise comparison\n",
      "  mask |= (ar1 == a)\n"
     ]
    }
   ],
   "source": [
    "mats = pd.read_csv('../Demand/matrices_demand.txt', delimiter=';', index_col=[0,1,2])\n",
    "mats_info = pd.read_csv('../Demand/matrices_info.txt', delimiter=';', index_col=0)"
   ]
  },
  {
   "cell_type": "code",
   "execution_count": 45,
   "metadata": {
    "collapsed": true,
    "scrolled": true
   },
   "outputs": [],
   "source": [
    "df = mats.join(mats_info.NAME)\n",
    "df.reset_index(inplace=True)\n",
    "df = df.drop('MATRIXNO', 1)\n",
    "df['NAME'] = df['NAME'].astype('category')\n",
    "df = df.set_index(['NAME', 'FROMNO', 'TONO'])\n",
    "df.sort_index(inplace=True)"
   ]
  },
  {
   "cell_type": "code",
   "execution_count": 46,
   "metadata": {
    "collapsed": true
   },
   "outputs": [],
   "source": [
    "demand = df.loc[['HBW_C', 'HBW_X', 'HBEDU_C', 'HBEDU_X', 'HBO_C', 'HBO_X', 'HBSH_C', 'HBSH_X', 'NHB_C', 'NHB_X',],:]"
   ]
  },
  {
   "cell_type": "code",
   "execution_count": 47,
   "metadata": {
    "collapsed": true,
    "scrolled": true
   },
   "outputs": [],
   "source": [
    "# Cleaning\n",
    "demand.reset_index(inplace=True)\n",
    "demand = demand.assign(Purpose = lambda x: x.NAME.str.split('_').str[0])\n",
    "demand = demand.assign(Direction = lambda x: x.NAME.str.split('_').str[1])\n",
    "demand.drop('NAME', axis=1, inplace=True)\n",
    "\n",
    "demand.rename(columns={'FROMNO': 'From_Node', 'TONO': 'To_Node', 'VALUE': 'Trips'}, inplace=True)\n",
    "demand.Purpose.astype('category')\n",
    "demand.Direction.astype('category')\n",
    "\n",
    "demand.set_index(['Purpose', 'Direction', 'From_Node', 'To_Node'], inplace=True)"
   ]
  },
  {
   "cell_type": "markdown",
   "metadata": {},
   "source": [
    "### Test demand"
   ]
  },
  {
   "cell_type": "code",
   "execution_count": 48,
   "metadata": {
    "collapsed": true
   },
   "outputs": [],
   "source": [
    "demand_synthPop = demand.xs(['HBW', 'C'], level=[0,1], drop_level=False)"
   ]
  },
  {
   "cell_type": "code",
   "execution_count": 49,
   "metadata": {
    "collapsed": true
   },
   "outputs": [],
   "source": [
    "# Departure time\n",
    "depTime = '08:00' # 8 hours\n",
    "depTime_dev = '00:30' # deviation"
   ]
  },
  {
   "cell_type": "code",
   "execution_count": 50,
   "metadata": {
    "collapsed": true,
    "scrolled": true
   },
   "outputs": [],
   "source": [
    "# Create integer trips\n",
    "# To-Do improve method\n",
    "trips = demand_synthPop.Trips.round()\n",
    "\n",
    "# exclude 0 trips\n",
    "trips = trips[trips!=0]\n",
    "\n",
    "pop = []\n",
    "agent_id=1\n",
    "for trip in trips.iteritems():\n",
    "    idx = trip[0]\n",
    "    val = trip[1]\n",
    "    # Dictionary with the trips info\n",
    "    d = dict(zip(trips.index.names, idx))\n",
    "    for t in range(0, int(val)):\n",
    "        \n",
    "        # Create the agent\n",
    "        new_agent = Agent(id=agent_id)\n",
    "        \n",
    "        # Create the plans\n",
    "        # we have only one plan\n",
    "        new_plan = Plan(selected='yes')        \n",
    "        \n",
    "        # Create the activities\n",
    "        # Get Node's coords\n",
    "        x, y = zone_centroids.loc[d['From_Node']]\n",
    "        end_time = randNormal_time(depTime, depTime_dev)\n",
    "                \n",
    "        # To-Do must generate random points in the zone\n",
    "        new_act = Activity(type=d['Purpose'], x=x, y=y, end_time=end_time)\n",
    "        \n",
    "        # Create the leg\n",
    "        new_leg = Leg(mode='car')\n",
    "        \n",
    "        new_act.legs.append(new_leg)\n",
    "        new_plan.activities.append(new_act)\n",
    "        new_agent.plans.append(new_plan)\n",
    "        pop.append(new_agent)\n",
    "        agent_id+=1\n",
    "        "
   ]
  },
  {
   "cell_type": "code",
   "execution_count": 51,
   "metadata": {},
   "outputs": [],
   "source": [
    "xml = build_pop_xml(pop)"
   ]
  },
  {
   "cell_type": "code",
   "execution_count": 52,
   "metadata": {
    "collapsed": true
   },
   "outputs": [],
   "source": [
    "# Write the xml\n",
    "ElementTree(xml).write('pop.xml')"
   ]
  }
 ],
 "metadata": {
  "kernelspec": {
   "display_name": "Python [default]",
   "language": "python",
   "name": "python3"
  },
  "language_info": {
   "codemirror_mode": {
    "name": "ipython",
    "version": 3
   },
   "file_extension": ".py",
   "mimetype": "text/x-python",
   "name": "python",
   "nbconvert_exporter": "python",
   "pygments_lexer": "ipython3",
   "version": "3.6.1"
  }
 },
 "nbformat": 4,
 "nbformat_minor": 2
}
